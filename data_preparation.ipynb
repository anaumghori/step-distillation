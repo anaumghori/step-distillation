{
  "nbformat": 4,
  "nbformat_minor": 0,
  "metadata": {
    "colab": {
      "provenance": [],
      "authorship_tag": "ABX9TyMu26H5ZtOo7mbnmq7yuGe1"
    },
    "kernelspec": {
      "name": "python3",
      "display_name": "Python 3"
    },
    "language_info": {
      "name": "python"
    }
  },
  "cells": [
    {
      "cell_type": "markdown",
      "source": [
        "# **Installation and Imports**"
      ],
      "metadata": {
        "id": "wQsFWvBh3UzK"
      }
    },
    {
      "cell_type": "code",
      "execution_count": null,
      "metadata": {
        "id": "dLlOyood2mhA"
      },
      "outputs": [],
      "source": [
        "!pip install -U transformers datasets huggingface_hub bitsandbytes accelerate"
      ]
    },
    {
      "cell_type": "code",
      "source": [
        "from datasets import load_dataset, DatasetDict, Dataset\n",
        "from huggingface_hub import login\n",
        "from transformers import AutoTokenizer, AutoModelForCausalLM, pipeline, BitsAndBytesConfig\n",
        "import torch\n",
        "import pandas as pd\n",
        "from tqdm.auto import tqdm\n",
        "import os\n",
        "from huggingface_hub import HfApi, login"
      ],
      "metadata": {
        "id": "E8F2MKB_3Tpw"
      },
      "execution_count": null,
      "outputs": []
    },
    {
      "cell_type": "markdown",
      "source": [
        "# **Load and Modify the Dataset**"
      ],
      "metadata": {
        "id": "PHjVB9YV3dHe"
      }
    },
    {
      "cell_type": "code",
      "source": [
        "ds = load_dataset(\"Salesforce/cos_e\", \"v1.11\", split={\"train\": \"train\", \"test\": \"validation\"})\n",
        "\n",
        "def modify_example(example):\n",
        "    # Generate explicit choice labels\n",
        "    choice_labels = ['(a)', '(b)', '(c)', '(d)', '(e)']\n",
        "    formatted_choices = \"\\n\".join([f\"{choice_labels[i]} {choice}\" for i, choice in enumerate(example[\"choices\"])])\n",
        "\n",
        "    # Merge 'question' and formatted 'choices' into 'input'\n",
        "    input_text = f\"{example['question']}\\nAnswer Choices:\\n{formatted_choices}\"\n",
        "    return {\n",
        "        \"input\": input_text,  # Create 'input' column\n",
        "        \"label\": example[\"answer\"]  # Rename 'answer' to 'label'\n",
        "    }\n",
        "\n",
        "dataset = {split: data.map(modify_example, remove_columns=['id', 'question', 'choices', 'answer', 'abstractive_explanation', 'extractive_explanation']) for split, data in ds.items()}"
      ],
      "metadata": {
        "id": "TrAnq_Xe8Fyq"
      },
      "execution_count": null,
      "outputs": []
    },
    {
      "cell_type": "code",
      "source": [
        "print(dataset)\n",
        "print(dataset['train'][0])"
      ],
      "metadata": {
        "colab": {
          "base_uri": "https://localhost:8080/"
        },
        "id": "fUuF2kV-3tyb",
        "outputId": "8be1b01e-719e-42ab-bb51-2ebd297c064f"
      },
      "execution_count": 4,
      "outputs": [
        {
          "output_type": "stream",
          "name": "stdout",
          "text": [
            "{'train': Dataset({\n",
            "    features: ['input', 'label'],\n",
            "    num_rows: 9741\n",
            "}), 'test': Dataset({\n",
            "    features: ['input', 'label'],\n",
            "    num_rows: 1221\n",
            "})}\n",
            "{'input': '\"There are 10 apples on an apple tree.  Three fall off.  Now there are X apples.\"  What is this an example of?\\nAnswer Choices:\\n(a) park\\n(b) coloring book\\n(c) garden center\\n(d) math problem\\n(e) gravity', 'label': 'math problem'}\n"
          ]
        }
      ]
    },
    {
      "cell_type": "markdown",
      "source": [
        "# **Load Model**"
      ],
      "metadata": {
        "id": "05wD1JKf3xoK"
      }
    },
    {
      "cell_type": "code",
      "source": [
        "model_name = \"Qwen/Qwen2.5-3B-Instruct\"\n",
        "tokenizer = AutoTokenizer.from_pretrained(model_name, padding_side='left')\n",
        "\n",
        "model = AutoModelForCausalLM.from_pretrained(\n",
        "    model_name,\n",
        "    load_in_8bit=True,\n",
        "    device_map=\"auto\",\n",
        "    trust_remote_code=True\n",
        ")\n",
        "\n",
        "pipe = pipeline(\n",
        "    \"text-generation\",\n",
        "    model=model,\n",
        "    tokenizer=tokenizer,\n",
        "    max_new_tokens=256,\n",
        "    temperature=0.1,\n",
        "    top_p=0.95,\n",
        "    repetition_penalty=1.1,\n",
        "    batch_size=16\n",
        ")"
      ],
      "metadata": {
        "id": "wqHTUD5Me41x",
        "collapsed": true
      },
      "execution_count": null,
      "outputs": []
    },
    {
      "cell_type": "markdown",
      "source": [
        "# **Create Prompt Template**\n",
        "#### Defined total of 10 custom examples as stated in the original paper"
      ],
      "metadata": {
        "id": "Yf1Szabh39qQ"
      }
    },
    {
      "cell_type": "code",
      "execution_count": null,
      "metadata": {
        "id": "SR05OzsCHFOA"
      },
      "outputs": [],
      "source": [
        "def create_prompt_template():\n",
        "    header = \"\"\"I'll show you several examples of multiple-choice questions with their answers and rationales.\n",
        "    For each new question, I want you to:\n",
        "    1. Think through each answer choice carefully\n",
        "    2. Explain why the correct answer makes sense\n",
        "    3. Generate a unique and specific rationale for why the given label is correct\n",
        "    4. Make sure your rationale relates directly to the specific content of the question\n",
        "    5. Exclude any bracketed placeholders, markers, or artifacts such as `{start}`, `{end}`, `{rationale end}`, `{example}`, or similar text.\n",
        "    6. Maintain coherence throughout the explanation, avoiding abrupt jumps, missing reasoning, or unclear conclusions.\n",
        "\n",
        "    Examples:\n",
        "    \"\"\"\n",
        "\n",
        "    examples = [\n",
        "        {\n",
        "            \"input\": \"What home entertainment equipment requires cable?\\n\"\n",
        "                     \"Answer Choices:\\n\"\n",
        "                     \"(a) radio shack\\n\"\n",
        "                     \"(b) substation\\n\"\n",
        "                     \"(c) television\\n\"\n",
        "                     \"(d) cabinet\\n\"\n",
        "                     \"(e) desk\",\n",
        "            \"label\": \"television\",\n",
        "            \"rationale\": \"To determine what home entertainment equipment requires cable, I need to analyze each option. Radio shack is a store, not equipment. A substation is related to electricity distribution, not home entertainment. Television is home entertainment equipment that typically requires cable connections to receive signals from cable providers, antennas, or satellite dishes. Cabinet and desk are furniture items, not electronic equipment. Therefore, among the given options, television is the only home entertainment equipment that requires cable.\"\n",
        "        },\n",
        "        {\n",
        "            \"input\": \"The fox walked from the city into the forest, what was it looking for?\\n\"\n",
        "                     \"Answer Choices:\\n\"\n",
        "                     \"(a) food\\n\"\n",
        "                     \"(b) shelter\\n\"\n",
        "                     \"(c) escape\\n\"\n",
        "                     \"(d) friends\\n\"\n",
        "                     \"(e) exercise\",\n",
        "            \"label\": \"food\",\n",
        "            \"rationale\": \"To determine what the fox was looking for, I need to consider the natural behavior of foxes and the context of moving from a city to a forest. Foxes are wild animals that primarily hunt for prey in natural environments. While foxes might seek shelter, escape from threats, companions, or exercise, their primary motivation for movement is usually finding food. Forests provide better hunting opportunities than cities. Given that the fox is deliberately moving from an urban area to a more natural environment, it's most likely searching for food, which is the primary driver of animal migration between habitats.\"\n",
        "        },\n",
        "        {\n",
        "            \"input\": \"What could cause a plant to die?\\n\"\n",
        "                     \"Answer Choices:\\n\"\n",
        "                     \"(a) lack of sunlight\\n\"\n",
        "                     \"(b) over cultivation\\n\"\n",
        "                     \"(c) lack of space\\n\"\n",
        "                     \"(d) all of the above\\n\"\n",
        "                     \"(e) none of the above\",\n",
        "            \"label\": \"all of the above\",\n",
        "            \"rationale\": \"To determine what could cause a plant to die, I need to evaluate each option. Lack of sunlight prevents photosynthesis, which plants need to produce energy and survive. Over cultivation can deplete soil nutrients and damage root systems, causing plant death. Lack of space restricts root growth and can cause plants to become root-bound, eventually leading to death. Since all three factors—lack of sunlight, over cultivation, and lack of space—can independently cause a plant to die, the correct answer is 'all of the above'. None of these options would promote plant health, so 'none of the above' is incorrect.\"\n",
        "        },\n",
        "        {\n",
        "            \"input\": \"Where does the energy in food originally come from?\\n\"\n",
        "                     \"Answer Choices:\\n\"\n",
        "                     \"(a) water\\n\"\n",
        "                     \"(b) minerals\\n\"\n",
        "                     \"(c) soil\\n\"\n",
        "                     \"(d) the Sun\\n\"\n",
        "                     \"(e) carbon dioxide\",\n",
        "            \"label\": \"the Sun\",\n",
        "            \"rationale\": \"To determine the original source of energy in food, I need to trace the energy flow in ecosystems. Plants convert light energy into chemical energy through photosynthesis, which becomes stored in the plants' tissues. When animals eat plants or other animals, they obtain this stored energy. Water, minerals, and soil provide necessary materials for plant growth but don't supply energy. Carbon dioxide is used in photosynthesis but isn't an energy source. The Sun provides the initial light energy that drives photosynthesis, making it the original source of energy that eventually becomes stored in food. Therefore, the Sun is the correct answer.\"\n",
        "        },\n",
        "        {\n",
        "            \"input\": \"What is the most essential feature of a non-fiction novel?\\n\"\n",
        "                     \"Answer Choices:\\n\"\n",
        "                     \"(a) real events\\n\"\n",
        "                     \"(b) specific details\\n\"\n",
        "                     \"(c) personal experiences\\n\"\n",
        "                     \"(d) research\\n\"\n",
        "                     \"(e) social context\",\n",
        "            \"label\": \"real events\",\n",
        "            \"rationale\": \"To identify the most essential feature of a non-fiction novel, I need to understand what fundamentally defines non-fiction. Non-fiction, by definition, is writing based on real events, facts, and information, as opposed to fiction, which is imaginary. While specific details enhance non-fiction writing, they're not the defining characteristic. Personal experiences may be included but aren't required in all non-fiction. Research is important for accuracy but is a method rather than a defining feature. Social context adds depth but isn't essential to all non-fiction works. The foundational characteristic that makes something non-fiction is that it's based on real events, making this the most essential feature.\"\n",
        "        },\n",
        "        {\n",
        "            \"input\": \"What do people use to reduce glare from the sun while driving?\\n\"\n",
        "                     \"Answer Choices:\\n\"\n",
        "                     \"(a) visor\\n\"\n",
        "                     \"(b) gas\\n\"\n",
        "                     \"(c) horn\\n\"\n",
        "                     \"(d) radio\\n\"\n",
        "                     \"(e) mirror\",\n",
        "            \"label\": \"visor\",\n",
        "            \"rationale\": \"To determine what people use to reduce glare while driving, I need to consider each option's function. A visor is a hinged flap in cars specifically designed to block direct sunlight and reduce glare, improving visibility and safety. Gas is a fuel for the vehicle and has no relation to sun glare. The horn is used for signaling to other drivers and doesn't affect sunlight. A radio is for entertainment and communication and doesn't block light. Mirrors reflect light rather than block it, potentially increasing glare. Therefore, among the given options, a visor is specifically designed to reduce sun glare while driving.\"\n",
        "        },\n",
        "        {\n",
        "            \"input\": \"What is the main purpose of a zipper?\\n\"\n",
        "                     \"Answer Choices:\\n\"\n",
        "                     \"(a) join things together\\n\"\n",
        "                     \"(b) release air\\n\"\n",
        "                     \"(c) lock items away\\n\"\n",
        "                     \"(d) create shade\\n\"\n",
        "                     \"(e) provide insulation\",\n",
        "            \"label\": \"join things together\",\n",
        "            \"rationale\": \"To determine the main purpose of a zipper, I need to analyze its primary function. A zipper consists of two rows of interlocking teeth that can be joined or separated by moving a slider. Its fundamental purpose is to join fabric or other materials together in a way that can be easily opened and closed. Zippers don't primarily release air, though they might allow airflow when opened. While zippers can secure items, 'lock items away' suggests a security function that's secondary to joining. Zippers don't create shade or primarily provide insulation, though closed zippers on insulated clothing help maintain warmth. Therefore, the main purpose of a zipper is to join things together.\"\n",
        "        },\n",
        "        {\n",
        "            \"input\": \"What do cowboys typically sleep under when camping outdoors?\\n\"\n",
        "                     \"Answer Choices:\\n\"\n",
        "                     \"(a) stars\\n\"\n",
        "                     \"(b) rocks\\n\"\n",
        "                     \"(c) overhang\\n\"\n",
        "                     \"(d) tent\\n\"\n",
        "                     \"(e) trailer\",\n",
        "            \"label\": \"stars\",\n",
        "            \"rationale\": \"To determine what cowboys typically sleep under when camping outdoors, I need to consider historical practices and common imagery associated with cowboys. Traditionally, cowboys on cattle drives would sleep outdoors without elaborate shelter, often using only bedrolls. They wouldn't sleep under rocks, as this doesn't provide shelter and is impractical. An overhang might be used during bad weather but isn't the typical situation. Modern camping equipment like tents or trailers would be anachronistic for traditional cowboys and impractical to carry on horseback during cattle drives. The phrase 'sleeping under the stars' is commonly associated with cowboys camping in the open air, making 'stars' the most appropriate answer for what cowboys typically sleep under.\"\n",
        "        },\n",
        "        {\n",
        "            \"input\": \"What natural disaster is measured using the Richter scale?\\n\"\n",
        "                     \"Answer Choices:\\n\"\n",
        "                     \"(a) tornado\\n\"\n",
        "                     \"(b) earthquake\\n\"\n",
        "                     \"(c) hurricane\\n\"\n",
        "                     \"(d) drought\\n\"\n",
        "                     \"(e) flood\",\n",
        "            \"label\": \"earthquake\",\n",
        "            \"rationale\": \"To identify which natural disaster is measured using the Richter scale, I need to recall what the Richter scale specifically measures. The Richter scale was developed to quantify the magnitude or energy release of seismic events by measuring the amplitude of the largest seismic wave. Tornadoes are measured using the Enhanced Fujita (EF) scale based on damage patterns. Hurricanes are measured using the Saffir-Simpson scale based on wind speed. Droughts are measured using indices like the Palmer Drought Severity Index. Floods are measured by water levels, flow rates, and extent of inundation. Only earthquakes are measured using the Richter scale (though modern seismologists often use the moment magnitude scale for larger earthquakes). Therefore, earthquake is the correct answer.\"\n",
        "        },\n",
        "        {\n",
        "            \"input\": \"What is the most important safety feature of a car?\\n\"\n",
        "                     \"Answer Choices:\\n\"\n",
        "                     \"(a) seatbelt\\n\"\n",
        "                     \"(b) airbag\\n\"\n",
        "                     \"(c) anti-lock brakes\\n\"\n",
        "                     \"(d) backup camera\\n\"\n",
        "                     \"(e) blind spot detection\",\n",
        "            \"label\": \"seatbelt\",\n",
        "            \"rationale\": \"To determine the most important safety feature of a car, I need to consider the effectiveness, universality, and historical impact of each option. Seatbelts are considered the most fundamental safety device in vehicles, reducing fatalities by 45-60% according to safety studies. They're the primary restraint system that keeps occupants in position during a crash, enabling other safety features to work effectively. Airbags are supplemental restraint systems designed to work with seatbelts, not replace them. Anti-lock brakes, backup cameras, and blind spot detection enhance safety but primarily prevent accidents rather than protect during collisions. Safety experts and regulatory bodies consistently identify seatbelts as the single most important safety feature, with mandatory seatbelt laws preceding other safety requirements. Therefore, the seatbelt is the most important safety feature.\"\n",
        "        }\n",
        "    ]\n",
        "\n",
        "    # Format examples in the prompt with clear separation\n",
        "    formatted_examples = \"\"\n",
        "    for i, example in enumerate(examples, 1):\n",
        "        formatted_examples += f\"EXAMPLE {i}:\\n\"\n",
        "        formatted_examples += f\"Input: {example['input']}\\n\"\n",
        "        formatted_examples += f\"Label: {example['label']}\\n\"\n",
        "        formatted_examples += f\"Rationale: {example['rationale']}\\n\\n\"\n",
        "\n",
        "    # Create a very explicit new task marker with instruction not to add extra text\n",
        "    new_input_section = \"\"\"====================\n",
        "    NEW QUESTION REQUIRING RATIONALE:\n",
        "    ====================\n",
        "\n",
        "    Input: {input}\n",
        "    Label: {label}\n",
        "\n",
        "    Generate a factual and specific rationale that explains why the label is correct.\n",
        "    Do not add any text asking if I want another question or example.\n",
        "    Do not add anything after your explanation.\n",
        "\n",
        "    Rationale:\"\"\"\n",
        "\n",
        "    # Combine all parts of the prompt\n",
        "    full_prompt_template = header + formatted_examples + new_input_section\n",
        "\n",
        "    return full_prompt_template"
      ]
    },
    {
      "cell_type": "markdown",
      "source": [
        "# **Generate Rationales**"
      ],
      "metadata": {
        "id": "sc2ABrHn4vAq"
      }
    },
    {
      "cell_type": "code",
      "source": [
        "def generate_rationales(dataset, pipe, batch_size=16, max_retries=3):\n",
        "    prompt_template = create_prompt_template()\n",
        "    results = {\"train\": [], \"test\": []}\n",
        "    total_processed = 0\n",
        "    last_saved_count = 0\n",
        "\n",
        "    for split_name in dataset:\n",
        "        split_data = dataset[split_name]\n",
        "        print(f\"Processing {split_name} split with {len(split_data)} examples...\")\n",
        "\n",
        "        # Process in batches\n",
        "        for i in tqdm(range(0, len(split_data), batch_size)):\n",
        "            batch_indices = list(range(i, min(i+batch_size, len(split_data))))\n",
        "\n",
        "            # Format prompts for the batch\n",
        "            if split_name == \"train\":\n",
        "                prompts = []\n",
        "                for idx in batch_indices:\n",
        "                    example = split_data[idx]\n",
        "                    formatted_prompt = prompt_template.replace(\"{input}\", example[\"input\"]).replace(\"{label}\", example[\"label\"])\n",
        "                    prompts.append(formatted_prompt)\n",
        "\n",
        "                outputs = pipe(prompts)\n",
        "\n",
        "                # Process each output\n",
        "                for j, output in enumerate(outputs):\n",
        "                    example_idx = batch_indices[j]\n",
        "                    example = split_data[example_idx]\n",
        "                    generated_text = output[0][\"generated_text\"]\n",
        "\n",
        "                    # Extract rationale, Retry generation if no rationale is found\n",
        "                    if \"Rationale:\" not in generated_text:\n",
        "                        for retry in range(max_retries):\n",
        "                            retry_prompt = prompt_template.replace(\"{input}\", example[\"input\"]).replace(\"{label}\", example[\"label\"])\n",
        "                            retry_output = pipe([retry_prompt])[0][\"generated_text\"]\n",
        "\n",
        "                            if \"Rationale:\" in retry_output:\n",
        "                                generated_text = retry_output\n",
        "                                break\n",
        "                        else:\n",
        "                            # If all retries fail, raise an error or handle accordingly\n",
        "                            raise ValueError(f\"Failed to generate rationale for input: {example['input']}\")\n",
        "\n",
        "                    # Extract rationale\n",
        "                    rationale_parts = generated_text.split(\"Rationale:\")\n",
        "                    rationale_text = rationale_parts[-1].strip()\n",
        "\n",
        "                    # Clean up any trailing markers or new tasks\n",
        "                    for marker in [\"====================\", \"NEW QUESTION\", \"Input:\"]:\n",
        "                        if marker in rationale_text:\n",
        "                            rationale_text = rationale_text.split(marker)[0].strip()\n",
        "\n",
        "                    results[split_name].append({\n",
        "                        \"input\": example[\"input\"],\n",
        "                        \"label\": example[\"label\"],\n",
        "                        \"rationale\": rationale_text\n",
        "                    })\n",
        "            else:\n",
        "                for idx in batch_indices:\n",
        "                    example = split_data[idx]\n",
        "                    results[split_name].append({\n",
        "                        \"input\": example[\"input\"],\n",
        "                        \"label\": example[\"label\"],\n",
        "                        \"rationale\": \"\"\n",
        "                    })\n",
        "\n",
        "            total_processed += len(batch_indices)\n",
        "\n",
        "            # Save interim results every 200 rows\n",
        "            if total_processed - last_saved_count >= 200:\n",
        "                temp_df = pd.DataFrame(results[\"train\"])\n",
        "                temp_df.to_csv(f\"interim_results_{total_processed}.csv\", index=False)\n",
        "                print(f\"Saved interim results at {total_processed} rows\")\n",
        "                last_saved_count = total_processed\n",
        "\n",
        "    # Save ALL rows to final CSV\n",
        "    train_df = pd.DataFrame(results[\"train\"])\n",
        "    train_df.to_csv(\"complete_rationale_results.csv\", index=False)\n",
        "    print(f\"Processing complete! Total train examples processed: {len(results['train'])}\")\n",
        "    print(f\"📂 Final results saved to complete_rationale_results.csv\")\n",
        "\n",
        "    return results"
      ],
      "metadata": {
        "id": "SQ07Vx7yCbqN"
      },
      "execution_count": null,
      "outputs": []
    },
    {
      "cell_type": "code",
      "source": [
        "results = generate_rationales(dataset, pipe)"
      ],
      "metadata": {
        "id": "qr-TU0qw5HkB"
      },
      "execution_count": null,
      "outputs": []
    },
    {
      "cell_type": "markdown",
      "source": [
        "# **Push to Hugging Face**\n",
        "#### This is to make it easier to load the dataset later when training the T5-small model."
      ],
      "metadata": {
        "id": "cQaY6oFw5IcE"
      }
    },
    {
      "cell_type": "code",
      "source": [
        "def upload_dataset(results, dataset_name, username, token):\n",
        "    login(token=token)\n",
        "\n",
        "    hf_dataset = DatasetDict({\n",
        "        \"train\": Dataset.from_list(results[\"train\"]),\n",
        "        \"test\": Dataset.from_list(results[\"test\"])\n",
        "    })\n",
        "\n",
        "    hf_dataset.push_to_hub(f\"{username}/{dataset_name}\")\n",
        "    print(f\"Dataset successfully pushed to {username}/{dataset_name}\")\n",
        "\n",
        "    return hf_dataset\n",
        "\n",
        "uploaded_dataset = upload_dataset(\n",
        "    results,\n",
        "    dataset_name=\"Salesforce/cos_e-rationale\",\n",
        "    username=\"your-username\",\n",
        "    token=\"huggingface_token\"\n",
        ")"
      ],
      "metadata": {
        "id": "M-LczjUEYkRH"
      },
      "execution_count": null,
      "outputs": []
    }
  ]
}